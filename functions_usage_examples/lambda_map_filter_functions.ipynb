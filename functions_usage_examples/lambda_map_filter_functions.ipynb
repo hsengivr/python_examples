{
 "cells": [
  {
   "cell_type": "markdown",
   "id": "4469a8f8",
   "metadata": {},
   "source": [
    "# Lambda function"
   ]
  },
  {
   "cell_type": "markdown",
   "id": "003e36aa",
   "metadata": {},
   "source": [
    "- In Python, an anonymous function is a function that is defined without a name.\n",
    "- While normal functions are defined using the def keyword in Python, anonymous functions are defined using the lambda keyword.\n",
    "- Hence, anonymous functions are also called lambda functions.\n",
    "- Lambda function can take any number of input arguments but it can return only one function"
   ]
  },
  {
   "cell_type": "code",
   "execution_count": 1,
   "id": "98b423f4",
   "metadata": {},
   "outputs": [
    {
     "data": {
      "text/plain": [
       "<function __main__.<lambda>(arguments)>"
      ]
     },
     "execution_count": 1,
     "metadata": {},
     "output_type": "execute_result"
    }
   ],
   "source": [
    "# syntax\n",
    "\n",
    "lambda arguments: expression\n",
    "# lambda x : x*2\n",
    "\n",
    "# Here x before : is the parameter passed to function\n",
    "# x*2 after : is the return value of that function"
   ]
  },
  {
   "cell_type": "code",
   "execution_count": 2,
   "id": "bbf8ac68",
   "metadata": {},
   "outputs": [
    {
     "name": "stdout",
     "output_type": "stream",
     "text": [
      "4\n"
     ]
    }
   ],
   "source": [
    "# Example 1: lambda with single input argument\n",
    "\n",
    "double = lambda x : x*2\n",
    "print(double(2))"
   ]
  },
  {
   "cell_type": "code",
   "execution_count": 3,
   "id": "1bb1b1e5",
   "metadata": {},
   "outputs": [],
   "source": [
    "# this is same as above \n",
    "def double(x):\n",
    "   return x * 2"
   ]
  },
  {
   "cell_type": "code",
   "execution_count": 4,
   "id": "07d3069b",
   "metadata": {},
   "outputs": [
    {
     "name": "stdout",
     "output_type": "stream",
     "text": [
      "47\n"
     ]
    }
   ],
   "source": [
    "# Example 2: lambda with multiple arguments\n",
    "\n",
    "larger = lambda a,b:a if a>b else b\n",
    "print(larger(10,47))"
   ]
  },
  {
   "cell_type": "markdown",
   "id": "bc33a26f",
   "metadata": {},
   "source": [
    "# map()"
   ]
  },
  {
   "cell_type": "markdown",
   "id": "0fcc6c52",
   "metadata": {},
   "source": [
    "- The map() function in Python takes in a function and a list.\n",
    "- The function is called with all the items in the list and a new list is returned which contains items returned by that function for each item."
   ]
  },
  {
   "cell_type": "code",
   "execution_count": 5,
   "id": "fb5e628b",
   "metadata": {},
   "outputs": [
    {
     "name": "stdout",
     "output_type": "stream",
     "text": [
      "[2, 10, 8, 12, 16, 22, 6, 24]\n"
     ]
    }
   ],
   "source": [
    "# Program to double each item in a list using map()\n",
    "\n",
    "my_list = [1, 5, 4, 6, 8, 11, 3, 12]\n",
    "new_list = list(map(lambda x: x * 2 , my_list))\n",
    "print(new_list)"
   ]
  },
  {
   "cell_type": "markdown",
   "id": "6ccb90a6",
   "metadata": {},
   "source": [
    "# filter()"
   ]
  },
  {
   "cell_type": "markdown",
   "id": "2ef51184",
   "metadata": {},
   "source": [
    "- The filter() function in Python takes in a function and a list as arguments.\n",
    "- The function is called with all the items in the list and a new list is returned which contains items for which the function evaluates to True."
   ]
  },
  {
   "cell_type": "code",
   "execution_count": 6,
   "id": "b9a1f140",
   "metadata": {},
   "outputs": [
    {
     "name": "stdout",
     "output_type": "stream",
     "text": [
      "[4, 6, 8, 12]\n"
     ]
    }
   ],
   "source": [
    "# Program to filter out only the even items from a list\n",
    "\n",
    "my_list = [1, 5, 4, 6, 8, 11, 3, 12]\n",
    "new_list = list(filter(lambda x: (x%2 == 0) , my_list))\n",
    "print(new_list)"
   ]
  },
  {
   "cell_type": "code",
   "execution_count": null,
   "id": "32bb2468",
   "metadata": {},
   "outputs": [],
   "source": []
  }
 ],
 "metadata": {
  "kernelspec": {
   "display_name": "Python [conda env:pytorch_110] *",
   "language": "python",
   "name": "conda-env-pytorch_110-py"
  },
  "language_info": {
   "codemirror_mode": {
    "name": "ipython",
    "version": 3
   },
   "file_extension": ".py",
   "mimetype": "text/x-python",
   "name": "python",
   "nbconvert_exporter": "python",
   "pygments_lexer": "ipython3",
   "version": "3.7.6"
  }
 },
 "nbformat": 4,
 "nbformat_minor": 5
}
