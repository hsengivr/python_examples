{
 "cells": [
  {
   "cell_type": "markdown",
   "id": "1a97a27f",
   "metadata": {},
   "source": [
    "# File operations"
   ]
  },
  {
   "cell_type": "markdown",
   "id": "ffa91e0b",
   "metadata": {},
   "source": [
    "## Read text file"
   ]
  },
  {
   "cell_type": "code",
   "execution_count": 1,
   "id": "2654cd9d",
   "metadata": {},
   "outputs": [
    {
     "name": "stdout",
     "output_type": "stream",
     "text": [
      "['honda 1948\\n', 'mercedes 1926\\n', 'ford 1903']\n",
      "['honda 1948', 'mercedes 1926', 'ford 1903']\n"
     ]
    }
   ],
   "source": [
    "# Example 1: Using readlines()\n",
    "\n",
    "with open(\"./data_file.txt\") as f:\n",
    "    content_list = f.readlines()\n",
    "\n",
    "# print the list\n",
    "print(content_list)\n",
    "\n",
    "# remove new line characters\n",
    "content_list = [x.strip() for x in content_list]\n",
    "print(content_list)"
   ]
  },
  {
   "cell_type": "code",
   "execution_count": 2,
   "id": "845667e7",
   "metadata": {},
   "outputs": [
    {
     "name": "stdout",
     "output_type": "stream",
     "text": [
      "['honda 1948\\n', 'mercedes 1926\\n', 'ford 1903']\n",
      "['honda 1948', 'mercedes 1926', 'ford 1903']\n"
     ]
    }
   ],
   "source": [
    "# Example 2: Using for loop and list comprehension\n",
    "\n",
    "with open('./data_file.txt') as f:\n",
    "    content_list = [line for line in f]\n",
    "print(content_list)\n",
    "\n",
    "# removing the characters\n",
    "with open('./data_file.txt') as f:\n",
    "    content_list = [line.rstrip() for line in f]\n",
    "print(content_list)"
   ]
  },
  {
   "cell_type": "code",
   "execution_count": 3,
   "id": "95a9fca4",
   "metadata": {},
   "outputs": [
    {
     "name": "stdout",
     "output_type": "stream",
     "text": [
      "honda 1948\n",
      "mercedes 1926\n",
      "ford 1903\n"
     ]
    }
   ],
   "source": [
    "# Example 3: Using read()\n",
    "with open('./data_file.txt', 'r') as f:\n",
    "    data = f.read()\n",
    "print(data)"
   ]
  },
  {
   "cell_type": "markdown",
   "id": "be5d94b6",
   "metadata": {},
   "source": [
    "## Write to txt file"
   ]
  },
  {
   "cell_type": "code",
   "execution_count": 4,
   "id": "bd4f2d8d",
   "metadata": {},
   "outputs": [],
   "source": [
    "# Example 1: write to text file\n",
    "with open('./data.txt', 'w') as f:\n",
    "    data = 'some data to be written to the file'\n",
    "    f.write(data)"
   ]
  },
  {
   "cell_type": "markdown",
   "id": "dad112f8",
   "metadata": {},
   "source": [
    "## Get Line Count of a File"
   ]
  },
  {
   "cell_type": "code",
   "execution_count": 5,
   "id": "44cc964c",
   "metadata": {},
   "outputs": [
    {
     "name": "stdout",
     "output_type": "stream",
     "text": [
      "3\n"
     ]
    }
   ],
   "source": [
    "# Example 1: Using a for loop\n",
    "\n",
    "def file_len(fname):\n",
    "    with open(fname) as f:\n",
    "        for i, l in enumerate(f):\n",
    "            pass\n",
    "    return i + 1\n",
    "\n",
    "print(file_len(\"./data_file.txt\"))"
   ]
  },
  {
   "cell_type": "code",
   "execution_count": 6,
   "id": "9ffc01e0",
   "metadata": {},
   "outputs": [
    {
     "name": "stdout",
     "output_type": "stream",
     "text": [
      "3\n"
     ]
    }
   ],
   "source": [
    "# Example 2: Using list comprehension\n",
    "\n",
    "num_of_lines = sum(1 for l in open('data_file.txt'))\n",
    "print(num_of_lines)"
   ]
  },
  {
   "cell_type": "markdown",
   "id": "636516a1",
   "metadata": {},
   "source": [
    "## Check file size"
   ]
  },
  {
   "cell_type": "code",
   "execution_count": 7,
   "id": "af74f32b",
   "metadata": {},
   "outputs": [
    {
     "name": "stdout",
     "output_type": "stream",
     "text": [
      "36\n"
     ]
    }
   ],
   "source": [
    "# Example 1: Using os module\n",
    "import os\n",
    "\n",
    "file_stat = os.stat('./data_file.txt')\n",
    "print(file_stat.st_size)"
   ]
  },
  {
   "cell_type": "code",
   "execution_count": 8,
   "id": "34491c3e",
   "metadata": {},
   "outputs": [
    {
     "name": "stdout",
     "output_type": "stream",
     "text": [
      "36\n"
     ]
    }
   ],
   "source": [
    "# Example 2: Using pathlib module\n",
    "from pathlib import Path\n",
    "\n",
    "file = Path('./data_file.txt')\n",
    "print(file.stat().st_size)"
   ]
  },
  {
   "cell_type": "code",
   "execution_count": null,
   "id": "0ce58996",
   "metadata": {},
   "outputs": [],
   "source": []
  }
 ],
 "metadata": {
  "kernelspec": {
   "display_name": "Python [conda env:pytorch_110] *",
   "language": "python",
   "name": "conda-env-pytorch_110-py"
  },
  "language_info": {
   "codemirror_mode": {
    "name": "ipython",
    "version": 3
   },
   "file_extension": ".py",
   "mimetype": "text/x-python",
   "name": "python",
   "nbconvert_exporter": "python",
   "pygments_lexer": "ipython3",
   "version": "3.7.6"
  }
 },
 "nbformat": 4,
 "nbformat_minor": 5
}
