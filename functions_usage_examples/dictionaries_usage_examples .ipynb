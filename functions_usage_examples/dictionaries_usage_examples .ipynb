{
 "cells": [
  {
   "cell_type": "markdown",
   "id": "b2dde86f",
   "metadata": {},
   "source": [
    "# Dictionaries"
   ]
  },
  {
   "cell_type": "markdown",
   "id": "2af8da91",
   "metadata": {},
   "source": [
    "## How to sort a dictionary?"
   ]
  },
  {
   "cell_type": "code",
   "execution_count": 1,
   "id": "05e0071e",
   "metadata": {},
   "outputs": [
    {
     "name": "stdout",
     "output_type": "stream",
     "text": [
      "{6: 3, 5: 4, 1: 6}\n"
     ]
    }
   ],
   "source": [
    "# Example 1: Sort the dictionary based on values\n",
    "\n",
    "dt = {5:4, 1:6, 6:3}\n",
    "sorted_dt = {key: value for key, value in sorted(dt.items(), key=lambda item: item[1])}\n",
    "print(sorted_dt)"
   ]
  },
  {
   "cell_type": "code",
   "execution_count": 2,
   "id": "6ab5412d",
   "metadata": {},
   "outputs": [
    {
     "name": "stdout",
     "output_type": "stream",
     "text": [
      "[3, 4, 6]\n"
     ]
    }
   ],
   "source": [
    "# Example 2: Sort only the values\n",
    "\n",
    "dt = {5:4, 1:6, 6:3}\n",
    "sorted_dt_value = sorted(dt.values())\n",
    "print(sorted_dt_value)\n"
   ]
  },
  {
   "cell_type": "code",
   "execution_count": null,
   "id": "353081bf",
   "metadata": {},
   "outputs": [],
   "source": []
  },
  {
   "cell_type": "markdown",
   "id": "43e06a5d",
   "metadata": {},
   "source": [
    "## How to iterate over dictionaries ?"
   ]
  },
  {
   "cell_type": "code",
   "execution_count": 3,
   "id": "c7902a54",
   "metadata": {},
   "outputs": [
    {
     "name": "stdout",
     "output_type": "stream",
     "text": [
      "a juice\n",
      "b grill\n",
      "c corn\n"
     ]
    }
   ],
   "source": [
    "# Example 1: Access both key and value using items()\n",
    "\n",
    "dt = {'a': 'juice', 'b': 'grill', 'c': 'corn'}\n",
    "for key, value in dt.items():\n",
    "    print(key, value)"
   ]
  },
  {
   "cell_type": "code",
   "execution_count": 4,
   "id": "8e084ec3",
   "metadata": {},
   "outputs": [
    {
     "name": "stdout",
     "output_type": "stream",
     "text": [
      "a juice\n",
      "b grill\n",
      "c corn\n"
     ]
    }
   ],
   "source": [
    "# Example 2: Access both key and value without using items()\n",
    "\n",
    "dt = {'a': 'juice', 'b': 'grill', 'c': 'corn'}\n",
    "for key in dt:\n",
    "    print(key, dt[key])"
   ]
  },
  {
   "cell_type": "code",
   "execution_count": 5,
   "id": "119b04bd",
   "metadata": {},
   "outputs": [
    {
     "name": "stdout",
     "output_type": "stream",
     "text": [
      "a\n",
      "b\n",
      "c\n",
      "juice\n",
      "grill\n",
      "corn\n"
     ]
    }
   ],
   "source": [
    "# Example 3: Return keys or values explicitly\n",
    "\n",
    "dt = {'a': 'juice', 'b': 'grill', 'c': 'corn'}\n",
    "\n",
    "for key in dt.keys():\n",
    "    print(key)\n",
    "\n",
    "for value in dt.values():\n",
    "    print(value)"
   ]
  },
  {
   "cell_type": "markdown",
   "id": "18537052",
   "metadata": {},
   "source": [
    "## Merge dictionaries"
   ]
  },
  {
   "cell_type": "code",
   "execution_count": 6,
   "id": "dda7c52d",
   "metadata": {},
   "outputs": [
    {
     "name": "stdout",
     "output_type": "stream",
     "text": [
      "{1: 'a', 2: 'c', 4: 'd'}\n"
     ]
    }
   ],
   "source": [
    "# Example 1: Using the ** Operator\n",
    "# If there are two keys with the same name, the merged dictionary contains the value of the latter key.\n",
    "\n",
    "dict_1 = {1: 'a', 2: 'b'}\n",
    "dict_2 = {2: 'c', 4: 'd'}\n",
    "\n",
    "print({**dict_1, **dict_2})\n",
    "\n"
   ]
  },
  {
   "cell_type": "code",
   "execution_count": 7,
   "id": "2c433b19",
   "metadata": {},
   "outputs": [
    {
     "name": "stdout",
     "output_type": "stream",
     "text": [
      "{2: 'b', 4: 'd', 1: 'a'}\n"
     ]
    }
   ],
   "source": [
    "# Example 2: Using copy() and update()\n",
    "\n",
    "dict_1 = {1: 'a', 2: 'b'}\n",
    "dict_2 = {2: 'c', 4: 'd'}\n",
    "\n",
    "dict_3 = dict_2.copy()\n",
    "dict_3.update(dict_1)\n",
    "\n",
    "print(dict_3)"
   ]
  },
  {
   "cell_type": "code",
   "execution_count": null,
   "id": "afd90131",
   "metadata": {},
   "outputs": [],
   "source": []
  }
 ],
 "metadata": {
  "kernelspec": {
   "display_name": "Python [conda env:pytorch_110] *",
   "language": "python",
   "name": "conda-env-pytorch_110-py"
  },
  "language_info": {
   "codemirror_mode": {
    "name": "ipython",
    "version": 3
   },
   "file_extension": ".py",
   "mimetype": "text/x-python",
   "name": "python",
   "nbconvert_exporter": "python",
   "pygments_lexer": "ipython3",
   "version": "3.7.6"
  }
 },
 "nbformat": 4,
 "nbformat_minor": 5
}
