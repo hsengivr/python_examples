{
 "cells": [
  {
   "cell_type": "markdown",
   "id": "5e88b9e4",
   "metadata": {},
   "source": [
    "## Get the File Name From the File Path"
   ]
  },
  {
   "cell_type": "markdown",
   "id": "6d9cce46",
   "metadata": {},
   "source": [
    "- basename() gives the name of the last file/folder of the path\n",
    "- splitext() splits the file name into filename and extension"
   ]
  },
  {
   "cell_type": "code",
   "execution_count": 1,
   "id": "e20501ca",
   "metadata": {},
   "outputs": [
    {
     "name": "stdout",
     "output_type": "stream",
     "text": [
      "file_008.ext\n",
      "file_008\n"
     ]
    }
   ],
   "source": [
    "# Example 1: Using os module\n",
    "\n",
    "import os\n",
    "# file name with extension\n",
    "file_name = os.path.basename('/root/file_008.ext')\n",
    "print(file_name)\n",
    "\n",
    "# file name without extension\n",
    "print(os.path.splitext(file_name)[0])"
   ]
  },
  {
   "cell_type": "code",
   "execution_count": 2,
   "id": "bf30e8af",
   "metadata": {},
   "outputs": [
    {
     "name": "stdout",
     "output_type": "stream",
     "text": [
      "('file_008', '.ext')\n"
     ]
    }
   ],
   "source": [
    "import os\n",
    "print(os.path.splitext(file_name))"
   ]
  },
  {
   "cell_type": "markdown",
   "id": "4e72041c",
   "metadata": {},
   "source": [
    "## Get the Full Path of the Current Working Directory"
   ]
  },
  {
   "cell_type": "code",
   "execution_count": 3,
   "id": "ed9aa31a",
   "metadata": {},
   "outputs": [
    {
     "name": "stdout",
     "output_type": "stream",
     "text": [
      "C:\\Users\\kkeer\\Desktop\\Vignesh\\version_control\\Github_repos\\python_examples\\file_operations_usage_examples\\data_file.txt\n",
      "C:\\Users\\kkeer\\Desktop\\Vignesh\\version_control\\Github_repos\\python_examples\\file_operations_usage_examples\n",
      "C:\\Users\\kkeer\\Desktop\\Vignesh\\version_control\\Github_repos\\python_examples\\file_operations_usage_examples\n"
     ]
    }
   ],
   "source": [
    "# Example 1: Using os module\n",
    "\n",
    "import os\n",
    "\n",
    "# absolute path of given file\n",
    "print(os.path.abspath(\"./data_file.txt\"))\n",
    "\n",
    "# path of the given file\n",
    "print(os.path.dirname(os.path.abspath(\"./data_file.txt\")))\n",
    "\n",
    "# current working directory\n",
    "print(os.path.abspath(os.getcwd()))"
   ]
  },
  {
   "cell_type": "code",
   "execution_count": 4,
   "id": "074c0ead",
   "metadata": {},
   "outputs": [
    {
     "name": "stdout",
     "output_type": "stream",
     "text": [
      "C:\\Users\\kkeer\\Desktop\\Vignesh\\version_control\\Github_repos\\python_examples\\file_operations_usage_examples\n",
      "C:\\Users\\kkeer\\Desktop\\Vignesh\\version_control\\Github_repos\\python_examples\\file_operations_usage_examples\n"
     ]
    }
   ],
   "source": [
    "# Example 2: Using pathlib module\n",
    "\n",
    "import pathlib\n",
    "\n",
    "# path of the given file\n",
    "print(pathlib.Path(\"./data_file.txt\").parent.absolute())\n",
    "\n",
    "# current working directory\n",
    "print(pathlib.Path().absolute())"
   ]
  },
  {
   "cell_type": "markdown",
   "id": "b7a6402e",
   "metadata": {},
   "source": [
    "## Search for files inside folders using glob"
   ]
  },
  {
   "cell_type": "code",
   "execution_count": 5,
   "id": "e78e91f1",
   "metadata": {},
   "outputs": [
    {
     "name": "stdout",
     "output_type": "stream",
     "text": [
      "['C:\\\\Users\\\\kkeer\\\\Desktop\\\\Vignesh\\\\version_control\\\\Github_repos\\\\python_examples\\\\file_operations_usage_examples\\\\examples\\\\fol_a\\\\New Text Document.txt', 'C:\\\\Users\\\\kkeer\\\\Desktop\\\\Vignesh\\\\version_control\\\\Github_repos\\\\python_examples\\\\file_operations_usage_examples\\\\examples\\\\fol_b\\\\New Text Document - Copy.txt', 'C:\\\\Users\\\\kkeer\\\\Desktop\\\\Vignesh\\\\version_control\\\\Github_repos\\\\python_examples\\\\file_operations_usage_examples\\\\examples\\\\fol_b\\\\New Text Document.txt', 'C:\\\\Users\\\\kkeer\\\\Desktop\\\\Vignesh\\\\version_control\\\\Github_repos\\\\python_examples\\\\file_operations_usage_examples\\\\examples\\\\fol_c\\\\New Text Document.txt']\n"
     ]
    }
   ],
   "source": [
    "# Example 1: Use glob to search for files with specific extension and map them to list\n",
    "import glob\n",
    "\n",
    "folder_path = os.path.join(os.getcwd(), 'examples')\n",
    "\n",
    "text_files = glob.glob(folder_path + \"/**/*.txt\", recursive = True)\n",
    "print(text_files)"
   ]
  },
  {
   "cell_type": "markdown",
   "id": "1dc834cc",
   "metadata": {},
   "source": [
    "## Get list of files in directory and sub directories"
   ]
  },
  {
   "cell_type": "code",
   "execution_count": 6,
   "id": "40da06ac",
   "metadata": {},
   "outputs": [
    {
     "name": "stdout",
     "output_type": "stream",
     "text": [
      "C:\\Users\\kkeer\\Desktop\\Vignesh\\version_control\\Github_repos\\python_examples\\file_operations_usage_examples\n"
     ]
    }
   ],
   "source": [
    "# Example 1: For the given path, get the List of all files in the directory tree \n",
    "\n",
    "def getListOfFiles(dirName):\n",
    "    # create a list of file and sub directories \n",
    "    # names in the given directory \n",
    "    listOfFile = os.listdir(dirName)\n",
    "    allFiles = list()\n",
    "    # Iterate over all the entries\n",
    "    for entry in listOfFile:\n",
    "        # Create full path\n",
    "        fullPath = os.path.join(dirName, entry)\n",
    "        # If entry is a directory then get the list of files in this directory \n",
    "        if os.path.isdir(fullPath):\n",
    "            allFiles = allFiles + getListOfFiles(fullPath)\n",
    "        else:\n",
    "            allFiles.append(fullPath)\n",
    "                \n",
    "    return allFiles\n",
    "\n",
    "dirName = os.path.abspath(os.getcwd())\n",
    "print(dirName)\n",
    "\n",
    "# Get the list of all files in directory tree at given path\n",
    "listOfFiles = getListOfFiles(dirName)"
   ]
  },
  {
   "cell_type": "code",
   "execution_count": 7,
   "id": "ff51a2fa",
   "metadata": {},
   "outputs": [],
   "source": [
    "# Example 2: Get list of files in directory and sub directories using os.walk()\n",
    "    \n",
    "# It iterates of the directory tree at give path and for each directory or sub directory it returns a tuple containing,\n",
    "# (<Dir Name> , <List of Sub Dirs> , <List of Files>.\n",
    "\n",
    "\n",
    "dirName =\"C:\\workspace\\python\"\n",
    "\n",
    "# Get the list of all files in directory tree at given path\n",
    "listOfFiles = list()\n",
    "for (dirpath, dirnames, filenames) in os.walk(dirName):\n",
    "    listOfFiles += [os.path.join(dirpath, file) for file in filenames]\n",
    "\n",
    "#print all the file names\n",
    "for name in listOfFiles:\n",
    "    print(name)"
   ]
  },
  {
   "cell_type": "code",
   "execution_count": 8,
   "id": "f2095b93",
   "metadata": {},
   "outputs": [],
   "source": [
    "# Example 2: Get the list of all files with a specific extension\n",
    "\n",
    "path =\"C:\\workspace\\python\"\n",
    "\n",
    "for root, dirs, files in os.walk(path):\n",
    "    for file in files:\n",
    "        if(file.endswith(\".py\")):\n",
    "            print(os.path.join(root,file))"
   ]
  },
  {
   "cell_type": "markdown",
   "id": "ee4ea84e",
   "metadata": {},
   "source": [
    "## Count no of files in folders and subfolders"
   ]
  },
  {
   "cell_type": "code",
   "execution_count": 9,
   "id": "914b8199",
   "metadata": {},
   "outputs": [
    {
     "name": "stdout",
     "output_type": "stream",
     "text": [
      "C:\\Users\\kkeer\\Desktop\\Vignesh\\version_control\\Github_repos\\python_examples\\file_operations_usage_examples\\examples\n",
      "Searching in :  C:\\Users\\kkeer\\Desktop\\Vignesh\\version_control\\Github_repos\\python_examples\\file_operations_usage_examples\\examples\n",
      "Searching in :  C:\\Users\\kkeer\\Desktop\\Vignesh\\version_control\\Github_repos\\python_examples\\file_operations_usage_examples\\examples\\fol_a\n",
      "Searching in :  C:\\Users\\kkeer\\Desktop\\Vignesh\\version_control\\Github_repos\\python_examples\\file_operations_usage_examples\\examples\\fol_b\n",
      "Searching in :  C:\\Users\\kkeer\\Desktop\\Vignesh\\version_control\\Github_repos\\python_examples\\file_operations_usage_examples\\examples\\fol_c\n",
      "Total number of files 4\n",
      "Total Number of directories 3\n",
      "Total: 7\n"
     ]
    }
   ],
   "source": [
    "# Example 1 : Count total no of files present inside folder \n",
    "import os\n",
    "\n",
    "folder_path = os.path.join(os.getcwd(), 'examples')\n",
    "print(folder_path)\n",
    "\n",
    "totalFiles = 0\n",
    "totalDir = 0\n",
    "filelist = []\n",
    "for base, dirs, files in os.walk(folder_path):\n",
    "    print('Searching in : ',base)\n",
    "    for directories in dirs:\n",
    "        totalDir += 1\n",
    "    for Files in files:\n",
    "        totalFiles += 1\n",
    "        filelist.append(os.path.join(base,Files))\n",
    "\n",
    "\n",
    "print('Total number of files',totalFiles)\n",
    "print('Total Number of directories',totalDir)\n",
    "print('Total:',(totalDir + totalFiles))"
   ]
  },
  {
   "cell_type": "code",
   "execution_count": 10,
   "id": "f3a681b1",
   "metadata": {},
   "outputs": [
    {
     "name": "stdout",
     "output_type": "stream",
     "text": [
      "C:\\Users\\kkeer\\Desktop\\Vignesh\\version_control\\Github_repos\\python_examples\\file_operations_usage_examples\\examples\n",
      "3\n",
      "C:\\Users\\kkeer\\Desktop\\Vignesh\\version_control\\Github_repos\\python_examples\\file_operations_usage_examples\\examples\\fol_a\n",
      "1\n",
      "C:\\Users\\kkeer\\Desktop\\Vignesh\\version_control\\Github_repos\\python_examples\\file_operations_usage_examples\\examples\\fol_b\n",
      "2\n",
      "C:\\Users\\kkeer\\Desktop\\Vignesh\\version_control\\Github_repos\\python_examples\\file_operations_usage_examples\\examples\\fol_c\n",
      "1\n"
     ]
    }
   ],
   "source": [
    "# Example 2 : Count total no of files present inside each sub folder and display\n",
    "\n",
    "def getAllFiles(path):\n",
    "    print(path)\n",
    "    print(len(os.listdir(path)))\n",
    "    for root, dirs, files in os.walk(path):\n",
    "        for name in dirs:\n",
    "            print(os.path.join(root,name))\n",
    "            print(len(os.listdir(os.path.join(root,name))))\n",
    "\n",
    "getAllFiles(folder_path)"
   ]
  },
  {
   "cell_type": "code",
   "execution_count": 11,
   "id": "24807ada",
   "metadata": {},
   "outputs": [
    {
     "name": "stdout",
     "output_type": "stream",
     "text": [
      "C:\\Users\\kkeer\\Desktop\\Vignesh\\version_control\\Github_repos\\python_examples\\file_operations_usage_examples\\examples\n",
      "0\n",
      "C:\\Users\\kkeer\\Desktop\\Vignesh\\version_control\\Github_repos\\python_examples\\file_operations_usage_examples\\examples\\fol_a\n",
      "1\n",
      "C:\\Users\\kkeer\\Desktop\\Vignesh\\version_control\\Github_repos\\python_examples\\file_operations_usage_examples\\examples\\fol_b\n",
      "2\n",
      "C:\\Users\\kkeer\\Desktop\\Vignesh\\version_control\\Github_repos\\python_examples\\file_operations_usage_examples\\examples\\fol_c\n",
      "1\n"
     ]
    }
   ],
   "source": [
    "# Example 3: Count files with specific extension inside folders and subfolders\n",
    "\n",
    "def countPyFiles(path):\n",
    "    count = 0\n",
    "    for x in os.listdir(path):\n",
    "        if x.endswith(\".txt\"):\n",
    "            count = count + 1\n",
    "    return count\n",
    "\n",
    "def getAllFiles(path):\n",
    "    print(path)\n",
    "    print(countPyFiles(path))\n",
    "    for root, dirs, files in os.walk(path):\n",
    "        for name in dirs:\n",
    "            print(os.path.join(root,name))\n",
    "            print(countPyFiles(os.path.join(root,name)))\n",
    "            \n",
    "getAllFiles(folder_path)"
   ]
  },
  {
   "cell_type": "markdown",
   "id": "df394018",
   "metadata": {},
   "source": [
    "## Create empty directories using dictonaries"
   ]
  },
  {
   "cell_type": "code",
   "execution_count": 12,
   "id": "9fcc76df",
   "metadata": {},
   "outputs": [
    {
     "name": "stdout",
     "output_type": "stream",
     "text": [
      "Done creating empty folders...\n"
     ]
    }
   ],
   "source": [
    "import os\n",
    "\n",
    "root_dir = os.getcwd()\n",
    "\n",
    "class_label_dict1 = {'01_Folder1': 0, \n",
    "                    '02_Folder2': 1,\n",
    "                    '03_Folder3': 2}\n",
    "\n",
    "# convert dict to list\n",
    "folder_name1 = list(class_label_dict1.keys())\n",
    "\n",
    "# create empty directories if not present in folder\n",
    "files_main = os.listdir(root_dir)   \n",
    "for i in folder_name1:\n",
    "    if i not in files_main:\n",
    "        os.mkdir(os.path.join(root_dir, i))\n",
    "print('Done creating empty folders...')"
   ]
  },
  {
   "cell_type": "code",
   "execution_count": 13,
   "id": "7d9e7d30",
   "metadata": {},
   "outputs": [
    {
     "name": "stdout",
     "output_type": "stream",
     "text": [
      "Done creating empty folders...\n"
     ]
    }
   ],
   "source": [
    "def class_label_dict2():\n",
    "    return {'01_Folder1': 0, \n",
    "            '02_Folder2': 1,\n",
    "            '03_Folder3': 2}\n",
    "\n",
    "   \n",
    "# convert dict to list\n",
    "folder_name2 = list(class_label_dict2().keys()) \n",
    "\n",
    "# create empty directories if not present in folder\n",
    "files_main = os.listdir(root_dir)   \n",
    "for i in folder_name2:\n",
    "    if i not in files_main:\n",
    "        os.mkdir(os.path.join(root_dir, i))\n",
    "print('Done creating empty folders...')"
   ]
  },
  {
   "cell_type": "code",
   "execution_count": null,
   "id": "266134f6",
   "metadata": {},
   "outputs": [],
   "source": []
  }
 ],
 "metadata": {
  "kernelspec": {
   "display_name": "Python [conda env:pytorch_110] *",
   "language": "python",
   "name": "conda-env-pytorch_110-py"
  },
  "language_info": {
   "codemirror_mode": {
    "name": "ipython",
    "version": 3
   },
   "file_extension": ".py",
   "mimetype": "text/x-python",
   "name": "python",
   "nbconvert_exporter": "python",
   "pygments_lexer": "ipython3",
   "version": "3.7.6"
  }
 },
 "nbformat": 4,
 "nbformat_minor": 5
}
