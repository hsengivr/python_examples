{
 "cells": [
  {
   "cell_type": "markdown",
   "id": "437e7123",
   "metadata": {},
   "source": [
    "# List "
   ]
  },
  {
   "cell_type": "markdown",
   "id": "5e3634ce",
   "metadata": {},
   "source": [
    "## Slicing"
   ]
  },
  {
   "cell_type": "code",
   "execution_count": 1,
   "id": "ca20d156",
   "metadata": {},
   "outputs": [
    {
     "name": "stdout",
     "output_type": "stream",
     "text": [
      "[1, 2, 3, 4, 5]\n"
     ]
    }
   ],
   "source": [
    "# Get all the Items\n",
    "my_list = [1, 2, 3, 4, 5]\n",
    "print(my_list[:])"
   ]
  },
  {
   "cell_type": "code",
   "execution_count": 2,
   "id": "ee1bffdb",
   "metadata": {},
   "outputs": [
    {
     "name": "stdout",
     "output_type": "stream",
     "text": [
      "[3, 4, 5]\n"
     ]
    }
   ],
   "source": [
    "# Get all the Items After a Specific Position\n",
    "my_list = [1, 2, 3, 4, 5]\n",
    "print(my_list[2:])"
   ]
  },
  {
   "cell_type": "code",
   "execution_count": 3,
   "id": "d7f75f5a",
   "metadata": {},
   "outputs": [
    {
     "name": "stdout",
     "output_type": "stream",
     "text": [
      "[1, 2]\n"
     ]
    }
   ],
   "source": [
    "# Get all the Items Before a Specific Position\n",
    "my_list = [1, 2, 3, 4, 5]\n",
    "print(my_list[:2])"
   ]
  },
  {
   "cell_type": "code",
   "execution_count": 4,
   "id": "b2989187",
   "metadata": {},
   "outputs": [
    {
     "name": "stdout",
     "output_type": "stream",
     "text": [
      "[3, 4]\n"
     ]
    }
   ],
   "source": [
    "#Get all the Items from One Position to Another Position\n",
    "my_list = [1, 2, 3, 4, 5]\n",
    "print(my_list[2:4])"
   ]
  },
  {
   "cell_type": "code",
   "execution_count": 5,
   "id": "2c67adf5",
   "metadata": {},
   "outputs": [
    {
     "name": "stdout",
     "output_type": "stream",
     "text": [
      "[1, 3, 5]\n"
     ]
    }
   ],
   "source": [
    "# Get the Items at Specified Intervals\n",
    "my_list = [1, 2, 3, 4, 5]\n",
    "print(my_list[::2])"
   ]
  },
  {
   "cell_type": "code",
   "execution_count": 6,
   "id": "3f401c36",
   "metadata": {},
   "outputs": [
    {
     "name": "stdout",
     "output_type": "stream",
     "text": [
      "[5, 3, 1]\n"
     ]
    }
   ],
   "source": [
    "my_list = [1, 2, 3, 4, 5]\n",
    "print(my_list[::-2])"
   ]
  },
  {
   "cell_type": "code",
   "execution_count": 7,
   "id": "0d35a3e7",
   "metadata": {},
   "outputs": [
    {
     "name": "stdout",
     "output_type": "stream",
     "text": [
      "[2, 4]\n"
     ]
    }
   ],
   "source": [
    "# Get items between specified intervals and range\n",
    "my_list = [1, 2, 3, 4, 5]\n",
    "print(my_list[1:4:2])"
   ]
  },
  {
   "cell_type": "markdown",
   "id": "07d48c91",
   "metadata": {},
   "source": [
    "## Concatenate lists"
   ]
  },
  {
   "cell_type": "code",
   "execution_count": 8,
   "id": "fa075aed",
   "metadata": {},
   "outputs": [
    {
     "name": "stdout",
     "output_type": "stream",
     "text": [
      "[1, 'a', 3, 4, 5]\n"
     ]
    }
   ],
   "source": [
    "# Example 1: Using + operator\n",
    "\n",
    "list_1 = [1, 'a']\n",
    "list_2 = [3, 4, 5]\n",
    "\n",
    "list_joined = list_1 + list_2\n",
    "print(list_joined)"
   ]
  },
  {
   "cell_type": "code",
   "execution_count": 9,
   "id": "a9e4c6fa",
   "metadata": {},
   "outputs": [
    {
     "name": "stdout",
     "output_type": "stream",
     "text": [
      "[1, 'a', 2, 3]\n"
     ]
    }
   ],
   "source": [
    "# Example 2: Using iterable unpacking operator *\n",
    "\n",
    "list_1 = [1, 'a']\n",
    "list_2 = range(2, 4)\n",
    "\n",
    "list_joined = [*list_1, *list_2]\n",
    "print(list_joined)"
   ]
  },
  {
   "cell_type": "code",
   "execution_count": 10,
   "id": "c830c416",
   "metadata": {},
   "outputs": [
    {
     "name": "stdout",
     "output_type": "stream",
     "text": [
      "[1, 2, 3, 'a']\n"
     ]
    }
   ],
   "source": [
    "# Example 3: With unique values\n",
    "\n",
    "list_1 = [1, 'a']\n",
    "list_2 = [1, 2, 3]\n",
    "\n",
    "list_joined = list(set(list_1 + list_2))\n",
    "print(list_joined)"
   ]
  },
  {
   "cell_type": "code",
   "execution_count": 11,
   "id": "e098c9e5",
   "metadata": {},
   "outputs": [
    {
     "name": "stdout",
     "output_type": "stream",
     "text": [
      "[1, 2, 3, 1, 'a']\n"
     ]
    }
   ],
   "source": [
    "# Example 4: Using extend()\n",
    "\n",
    "list_1 = [1, 'a']\n",
    "list_2 = [1, 2, 3]\n",
    "\n",
    "list_2.extend(list_1)\n",
    "print(list_2)\n"
   ]
  },
  {
   "cell_type": "markdown",
   "id": "824d8a45",
   "metadata": {},
   "source": [
    "## Sort list"
   ]
  },
  {
   "cell_type": "code",
   "execution_count": 12,
   "id": "4ef51bc3",
   "metadata": {},
   "outputs": [
    {
     "name": "stdout",
     "output_type": "stream",
     "text": [
      "['Alan', 'Beiber', 'Jerry', 'Tom']\n"
     ]
    }
   ],
   "source": [
    "# Example 1: sort list alphabetically\n",
    "\n",
    "name = ['Alan', 'Tom', 'Beiber', 'Jerry']\n",
    "name.sort()\n",
    "print(name)"
   ]
  },
  {
   "cell_type": "code",
   "execution_count": 13,
   "id": "5615dcb7",
   "metadata": {},
   "outputs": [
    {
     "name": "stdout",
     "output_type": "stream",
     "text": [
      "['Tom', 'Alan', 'Jerry', 'Beiber']\n"
     ]
    }
   ],
   "source": [
    "# Example 2: sort list using lambda based on string length\n",
    "\n",
    "name = ['Alan', 'Tom', 'Beiber', 'Jerry']\n",
    "name.sort(key = lambda x : len(x))\n",
    "print(name)"
   ]
  },
  {
   "cell_type": "markdown",
   "id": "27e4816f",
   "metadata": {},
   "source": [
    "## Convert lists to dict"
   ]
  },
  {
   "cell_type": "code",
   "execution_count": 14,
   "id": "9260bb48",
   "metadata": {},
   "outputs": [
    {
     "name": "stdout",
     "output_type": "stream",
     "text": [
      "{1: 'python', 2: 'c', 3: 'c++'}\n"
     ]
    }
   ],
   "source": [
    "# Example 1: Using zip and dict methods\n",
    "    \n",
    "index = [1, 2, 3]\n",
    "languages = ['python', 'c', 'c++']\n",
    "\n",
    "dictionary = dict(zip(index, languages))\n",
    "print(dictionary)"
   ]
  },
  {
   "cell_type": "code",
   "execution_count": 15,
   "id": "9788392c",
   "metadata": {},
   "outputs": [
    {
     "name": "stdout",
     "output_type": "stream",
     "text": [
      "{1: 'python', 2: 'c', 3: 'c++'}\n"
     ]
    }
   ],
   "source": [
    "# Example 2: Using list comprehension\n",
    "\n",
    "index = [1, 2, 3]\n",
    "languages = ['python', 'c', 'c++']\n",
    "\n",
    "dictionary = {k: v for k, v in zip(index, languages)}\n",
    "print(dictionary)"
   ]
  },
  {
   "cell_type": "markdown",
   "id": "2352521f",
   "metadata": {},
   "source": [
    "## Remove duplicate element from list"
   ]
  },
  {
   "cell_type": "code",
   "execution_count": 16,
   "id": "7ac19b6d",
   "metadata": {},
   "outputs": [
    {
     "name": "stdout",
     "output_type": "stream",
     "text": [
      "[1, 2, 4, 6]\n"
     ]
    }
   ],
   "source": [
    "# Example 1: Using set()\n",
    "\n",
    "list_1 = [1, 2, 1, 4, 6]\n",
    "print(list(set(list_1)))"
   ]
  },
  {
   "cell_type": "code",
   "execution_count": 17,
   "id": "c27d1a87",
   "metadata": {},
   "outputs": [
    {
     "name": "stdout",
     "output_type": "stream",
     "text": [
      "[4, 6, 7, 8]\n"
     ]
    }
   ],
   "source": [
    "# Example 2: Remove the items that are duplicated in two lists - ^ symmetric difference\n",
    "\n",
    "list_1 = [1, 2, 1, 4, 6]\n",
    "list_2 = [7, 8, 2, 1]\n",
    "print(list(set(list_1) ^ set(list_2)))\n"
   ]
  },
  {
   "cell_type": "markdown",
   "id": "df2dbd84",
   "metadata": {},
   "source": [
    "## Iterate through two Lists in Parallel"
   ]
  },
  {
   "cell_type": "code",
   "execution_count": 18,
   "id": "796ad11d",
   "metadata": {},
   "outputs": [
    {
     "name": "stdout",
     "output_type": "stream",
     "text": [
      "1 a\n",
      "2 b\n",
      "3 c\n"
     ]
    }
   ],
   "source": [
    "# Example 1: Using zip (Python 3+)\n",
    "\n",
    "list_1 = [1, 2, 3, 4]\n",
    "list_2 = ['a', 'b', 'c']\n",
    "\n",
    "for i, j in zip(list_1, list_2):\n",
    "    print(i, j)"
   ]
  },
  {
   "cell_type": "code",
   "execution_count": 19,
   "id": "ed4cd9fb",
   "metadata": {},
   "outputs": [
    {
     "name": "stdout",
     "output_type": "stream",
     "text": [
      "1 a\n",
      "2 b\n",
      "3 c\n",
      "4 None\n"
     ]
    }
   ],
   "source": [
    "# Example 2: Using itertools (Python 2+)\n",
    "import itertools\n",
    "\n",
    "list_1 = [1, 2, 3, 4]\n",
    "list_2 = ['a', 'b', 'c']\n",
    "\n",
    "# loop until the longer list stops\n",
    "for i,j in itertools.zip_longest(list_1,list_2):\n",
    "    print(i,j)"
   ]
  },
  {
   "cell_type": "code",
   "execution_count": null,
   "id": "b121f8ad",
   "metadata": {},
   "outputs": [],
   "source": []
  }
 ],
 "metadata": {
  "kernelspec": {
   "display_name": "Python [conda env:pytorch_110] *",
   "language": "python",
   "name": "conda-env-pytorch_110-py"
  },
  "language_info": {
   "codemirror_mode": {
    "name": "ipython",
    "version": 3
   },
   "file_extension": ".py",
   "mimetype": "text/x-python",
   "name": "python",
   "nbconvert_exporter": "python",
   "pygments_lexer": "ipython3",
   "version": "3.7.6"
  }
 },
 "nbformat": 4,
 "nbformat_minor": 5
}
